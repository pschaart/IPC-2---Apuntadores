{
  "nbformat": 4,
  "nbformat_minor": 0,
  "metadata": {
    "colab": {
      "name": "Untitled0.ipynb",
      "provenance": [],
      "authorship_tag": "ABX9TyMMqw3KDAs6OwzgjqcF/0h+",
      "include_colab_link": true
    },
    "kernelspec": {
      "name": "python3",
      "display_name": "Python 3"
    }
  },
  "cells": [
    {
      "cell_type": "markdown",
      "metadata": {
        "id": "view-in-github",
        "colab_type": "text"
      },
      "source": [
        "<a href=\"https://colab.research.google.com/github/pschaart/IPC-2---Apuntadores/blob/master/Untitled0.ipynb\" target=\"_parent\"><img src=\"https://colab.research.google.com/assets/colab-badge.svg\" alt=\"Open In Colab\"/></a>"
      ]
    },
    {
      "cell_type": "code",
      "metadata": {
        "id": "1AhqNQjlVbpi"
      },
      "source": [
        "class cliente:\r\n",
        "  def __init__ (self,nombre,habitacion):\r\n",
        "    self.nombre = nombre\r\n",
        "    self.habitacion = habitacion"
      ],
      "execution_count": null,
      "outputs": []
    },
    {
      "cell_type": "code",
      "metadata": {
        "id": "36_B1-6zXUV_"
      },
      "source": [
        "class nodo:\r\n",
        "  def __init__(self, cliente = None , next = None):\r\n",
        "    self.cliente = cliente\r\n",
        "    self.next = next"
      ],
      "execution_count": null,
      "outputs": []
    },
    {
      "cell_type": "code",
      "metadata": {
        "id": "vIOBePCoYpfH"
      },
      "source": [
        "class linkedList:\r\n",
        "  def __init__(self):\r\n",
        "    self.head = None\r\n",
        "  \r\n",
        "  def Insertar(self, cliente):\r\n",
        "    if not self.head:\r\n",
        "      self.head = nodo(cliente=cliente)\r\n",
        "      return\r\n",
        "    \r\n",
        "    actual = self.head\r\n",
        "\r\n",
        "    while actual.next:\r\n",
        "      actual = actual.next\r\n",
        "    actual.next = nodo(cliente = cliente)\r\n",
        "  \r\n",
        "  def Imprimir(self):\r\n",
        "    nodo = self.head\r\n",
        "    while nodo != None:\r\n",
        "      print(nodo.cliente.nombre, end = '=>')\r\n",
        "      nodo = nodo.next\r\n",
        "  \r\n",
        "  def Eliminar(sefl, NoHabitacion):\r\n",
        "    actual = self.head\r\n",
        "    anterior = None\r\n",
        "\r\n",
        "    while actual and actual.cliente.habitacion != NoHabitacion\r\n",
        "\r\n"
      ],
      "execution_count": null,
      "outputs": []
    },
    {
      "cell_type": "code",
      "metadata": {
        "id": "J7knzgaHeFi-"
      },
      "source": [
        "c1 = cliente('Estuardo Zapeta',101)\r\n",
        "c2 = cliente('Marco Lopez',103)\r\n",
        "c3 = cliente('Josue Armas',204)\r\n",
        "c4 = cliente('Gladys Olmos',302)\r\n"
      ],
      "execution_count": null,
      "outputs": []
    },
    {
      "cell_type": "code",
      "metadata": {
        "id": "HLUiAsyTfDHL"
      },
      "source": [
        "Lista = linkedList()\r\n",
        "Lista.Insertar(c1)\r\n",
        "Lista.Insertar(c2)\r\n",
        "Lista.Insertar(c3)\r\n",
        "Lista.Insertar(c4)"
      ],
      "execution_count": null,
      "outputs": []
    },
    {
      "cell_type": "code",
      "metadata": {
        "colab": {
          "base_uri": "https://localhost:8080/"
        },
        "id": "uMm9S9vxisYN",
        "outputId": "6a0ccfb8-9c26-4e4f-bd47-a6916b8fbd33"
      },
      "source": [
        "Lista.Imprimir()"
      ],
      "execution_count": null,
      "outputs": [
        {
          "output_type": "stream",
          "text": [
            "Estuardo Zapeta=>Marco Lopez=>Josue Armas=>Gladys Olmos=>"
          ],
          "name": "stdout"
        }
      ]
    }
  ]
}